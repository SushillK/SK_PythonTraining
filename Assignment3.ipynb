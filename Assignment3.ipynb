{
 "cells": [
  {
   "cell_type": "code",
   "execution_count": 1,
   "metadata": {},
   "outputs": [],
   "source": [
    "#Assignment- OOP\n",
    "#1. Write a Python program to create a class representing a stack data structure. \n",
    "#Include methods for pushing and popping elements."
   ]
  },
  {
   "cell_type": "code",
   "execution_count": 19,
   "metadata": {},
   "outputs": [
    {
     "name": "stdout",
     "output_type": "stream",
     "text": [
      "Pushed 10 onto the stack.\n",
      "Pushed 20 onto the stack.\n",
      "Pushed 30 onto the stack.\n"
     ]
    }
   ],
   "source": [
    "class Stack:\n",
    "    def __init__(self):\n",
    "        self.items = []\n",
    "\n",
    "    def push(self, item):\n",
    "       \n",
    "        self.items.append(item)\n",
    "        print(f'Pushed {item} onto the stack.')\n",
    "    \n",
    "    def pop(self):\n",
    "       \n",
    "        if len(self.items) == 0:\n",
    "            return \"Stack is empty. Cannot pop.\"\n",
    "        return self.items.pop()\n",
    "    \n",
    "stack = Stack()\n",
    "    \n",
    "stack.push(10)\n",
    "stack.push(20)\n",
    "stack.push(30)\n",
    "\n",
    "    \n",
    "\n",
    " \n",
    "\n"
   ]
  },
  {
   "cell_type": "code",
   "execution_count": 20,
   "metadata": {},
   "outputs": [
    {
     "data": {
      "text/plain": [
       "30"
      ]
     },
     "execution_count": 17,
     "metadata": {},
     "output_type": "execute_result"
    }
   ],
   "source": [
    "stack.pop()"
   ]
  },
  {
   "cell_type": "code",
   "execution_count": null,
   "metadata": {},
   "outputs": [],
   "source": [
    "#Write a Python program to create a class representing a linked list data structure.\n",
    "#Include methods for displaying linked list data, inserting and deleting nodes."
   ]
  },
  {
   "cell_type": "code",
   "execution_count": 1,
   "metadata": {},
   "outputs": [
    {
     "name": "stdout",
     "output_type": "stream",
     "text": [
      "Inserted 10 into the linked list.\n",
      "Inserted 20 into the linked list.\n",
      "Inserted 30 into the linked list.\n",
      "Inserted 40 into the linked list.\n",
      "10 -> 20 -> 30 -> 40 -> None\n",
      "Deleted 20 from the linked list.\n",
      "10 -> 30 -> 40 -> None\n",
      "50 not found in the linked list.\n",
      "10 -> 30 -> 40 -> None\n"
     ]
    }
   ],
   "source": [
    "class Node:\n",
    "    def __init__(self, data):\n",
    "        self.data = data  \n",
    "        self.next = None  \n",
    "\n",
    "\n",
    "class LinkedList:\n",
    "    def __init__(self):\n",
    "        self.head = None  \n",
    "    def display(self):\n",
    "        \n",
    "        if self.head is None:\n",
    "            print(\"The list is empty.\")\n",
    "            return\n",
    "        current = self.head\n",
    "        while current:\n",
    "            print(current.data, end=\" -> \")\n",
    "            current = current.next\n",
    "        print(\"None\")\n",
    "\n",
    "    def insert(self, data):\n",
    "       \n",
    "        new_node = Node(data)\n",
    "        if self.head is None:\n",
    "            self.head = new_node\n",
    "        else:\n",
    "            current = self.head\n",
    "            while current.next:\n",
    "                current = current.next\n",
    "            current.next = new_node\n",
    "        print(f\"Inserted {data} into the linked list.\")\n",
    "\n",
    "    def delete(self, data):\n",
    "        \n",
    "        if self.head is None:\n",
    "            print(\"The list is empty. Cannot delete.\")\n",
    "            return\n",
    "\n",
    "        # If the node to be deleted is the head\n",
    "        if self.head.data == data:\n",
    "            self.head = self.head.next\n",
    "            print(f\"Deleted {data} from the linked list.\")\n",
    "            return\n",
    "\n",
    "        # Find the node to be deleted\n",
    "        current = self.head\n",
    "        while current.next and current.next.data != data:\n",
    "            current = current.next\n",
    "\n",
    "        # If the node to delete is found\n",
    "        if current.next:\n",
    "            current.next = current.next.next\n",
    "            print(f\"Deleted {data} from the linked list.\")\n",
    "        else:\n",
    "            print(f\"{data} not found in the linked list.\")\n",
    "\n",
    "\n",
    "# Example usage\n",
    "if __name__ == \"__main__\":\n",
    "    ll = LinkedList()\n",
    "\n",
    "    # Insert elements\n",
    "    ll.insert(10)\n",
    "    ll.insert(20)\n",
    "    ll.insert(30)\n",
    "    ll.insert(40)\n",
    "\n",
    "    # Display linked list\n",
    "    ll.display()\n",
    "\n",
    "    # Delete a node\n",
    "    ll.delete(20)\n",
    "    ll.display()\n",
    "\n",
    "    # Try deleting a node that doesn't exist\n",
    "    ll.delete(50)\n",
    "    ll.display()\n"
   ]
  },
  {
   "cell_type": "code",
   "execution_count": null,
   "metadata": {},
   "outputs": [],
   "source": [
    "#Write a Python program to create a class representing a shopping cart. \n",
    "#Include methods for adding and removing items, and calculating the total price"
   ]
  },
  {
   "cell_type": "code",
   "execution_count": 22,
   "metadata": {},
   "outputs": [
    {
     "name": "stdout",
     "output_type": "stream",
     "text": [
      "Added Apple to the cart.\n",
      "Added Banana to the cart.\n",
      "Added Orange to the cart.\n",
      "Apple - $1.50 x 3\n",
      "Banana - $0.75 x 5\n",
      "Orange - $1.25 x 2\n",
      "Total price: $10.75\n",
      "Removed Banana from the cart.\n",
      "Apple - $1.50 x 3\n",
      "Orange - $1.25 x 2\n",
      "Total price: $7.00\n",
      "Updated Apple: 5 in the cart.\n",
      "Apple - $1.50 x 5\n",
      "Orange - $1.25 x 2\n",
      "Total price: $10.00\n"
     ]
    }
   ],
   "source": [
    "class Item:\n",
    "    def __init__(self, name, price, quantity=1):\n",
    "        self.name = name\n",
    "        self.price = price\n",
    "        self.quantity = quantity\n",
    "\n",
    "    def __str__(self):\n",
    "        return f\"{self.name} - ${self.price:.2f} x {self.quantity}\"\n",
    "\n",
    "class ShoppingCart:\n",
    "    def __init__(self):\n",
    "        self.cart = []  # List to hold items\n",
    "\n",
    "    def add_item(self, name, price, quantity=1):\n",
    "        \"\"\"Add an item to the cart.\"\"\"\n",
    "        for item in self.cart:\n",
    "            if item.name == name:\n",
    "                item.quantity += quantity\n",
    "                print(f\"Updated {name}: {item.quantity} in the cart.\")\n",
    "                return\n",
    "        self.cart.append(Item(name, price, quantity))\n",
    "        print(f\"Added {name} to the cart.\")\n",
    "\n",
    "    def remove_item(self, name):\n",
    "        \"\"\"Remove an item from the cart.\"\"\"\n",
    "        for item in self.cart:\n",
    "            if item.name == name:\n",
    "                self.cart.remove(item)\n",
    "                print(f\"Removed {name} from the cart.\")\n",
    "                return\n",
    "        print(f\"{name} not found in the cart.\")\n",
    "\n",
    "    def calculate_total(self):\n",
    "        \"\"\"Calculate the total price of items in the cart.\"\"\"\n",
    "        total = sum(item.price * item.quantity for item in self.cart)\n",
    "        return total\n",
    "\n",
    "    def display_cart(self):\n",
    "        \"\"\"Display all the items in the cart.\"\"\"\n",
    "        if not self.cart:\n",
    "            print(\"The cart is empty.\")\n",
    "        else:\n",
    "            for item in self.cart:\n",
    "                print(item)\n",
    "            print(f\"Total price: ${self.calculate_total():.2f}\")\n",
    "\n",
    "# Example usage\n",
    "if __name__ == \"__main__\":\n",
    "    cart = ShoppingCart()\n",
    "\n",
    "    # Add items\n",
    "    cart.add_item(\"Apple\", 1.50, 3)\n",
    "    cart.add_item(\"Banana\", 0.75, 5)\n",
    "    cart.add_item(\"Orange\", 1.25, 2)\n",
    "\n",
    "    # Display cart\n",
    "    cart.display_cart()\n",
    "\n",
    "    # Remove an item\n",
    "    cart.remove_item(\"Banana\")\n",
    "\n",
    "    # Display cart again\n",
    "    cart.display_cart()\n",
    "\n",
    "    # Add more apples\n",
    "    cart.add_item(\"Apple\", 1.50, 2)\n",
    "\n",
    "    # Display final cart\n",
    "    cart.display_cart()\n"
   ]
  },
  {
   "cell_type": "code",
   "execution_count": null,
   "metadata": {},
   "outputs": [],
   "source": [
    "#Write a Python program to create a class representing a stack data structure. \n",
    "#Include methods for pushing, popping and displaying elements"
   ]
  },
  {
   "cell_type": "code",
   "execution_count": 23,
   "metadata": {},
   "outputs": [
    {
     "name": "stdout",
     "output_type": "stream",
     "text": [
      "Pushed 10 onto the stack.\n",
      "Pushed 20 onto the stack.\n",
      "Pushed 30 onto the stack.\n",
      "Stack elements (top to bottom):\n",
      "30\n",
      "20\n",
      "10\n",
      "Popped element: 30\n",
      "Stack elements (top to bottom):\n",
      "20\n",
      "10\n",
      "Stack is empty. Cannot pop.\n"
     ]
    }
   ],
   "source": [
    "class Stack:\n",
    "    def __init__(self):\n",
    "        self.stack = []  # Initialize an empty list to represent the stack\n",
    "\n",
    "    def push(self, item):\n",
    "     \n",
    "        self.stack.append(item)\n",
    "        print(f\"Pushed {item} onto the stack.\")\n",
    "\n",
    "    def pop(self):\n",
    "       \n",
    "        if self.is_empty():\n",
    "            print(\"Stack is empty. Cannot pop.\")\n",
    "            return None\n",
    "        return self.stack.pop()\n",
    "\n",
    "    def is_empty(self):\n",
    "        \"\"\"Check if the stack is empty.\"\"\"\n",
    "        return len(self.stack) == 0\n",
    "\n",
    "    def display(self):\n",
    "        \n",
    "        if self.is_empty():\n",
    "            print(\"Stack is empty.\")\n",
    "        else:\n",
    "            print(\"Stack elements (top to bottom):\")\n",
    "            for item in reversed(self.stack):  # Display from top to bottom\n",
    "                print(item)\n",
    "\n",
    "# Example usage\n",
    "if __name__ == \"__main__\":\n",
    "    stack = Stack()\n",
    "\n",
    "    # Push elements onto the stack\n",
    "    stack.push(10)\n",
    "    stack.push(20)\n",
    "    stack.push(30)\n",
    "\n",
    "    # Display the stack\n",
    "    stack.display()\n",
    "\n",
    "    # Pop an element from the stack\n",
    "    print(f\"Popped element: {stack.pop()}\")\n",
    "\n",
    "    # Display the stack after popping\n",
    "    stack.display()\n",
    "\n",
    "    # Pop all elements and try to pop from an empty stack\n",
    "    stack.pop()\n",
    "    stack.pop()\n",
    "    stack.pop()  # Trying to pop from empty stack\n"
   ]
  },
  {
   "cell_type": "code",
   "execution_count": null,
   "metadata": {},
   "outputs": [],
   "source": []
  }
 ],
 "metadata": {
  "kernelspec": {
   "display_name": "Python 3 (ipykernel)",
   "language": "python",
   "name": "python3"
  },
  "language_info": {
   "codemirror_mode": {
    "name": "ipython",
    "version": 3
   },
   "file_extension": ".py",
   "mimetype": "text/x-python",
   "name": "python",
   "nbconvert_exporter": "python",
   "pygments_lexer": "ipython3",
   "version": "3.11.5"
  }
 },
 "nbformat": 4,
 "nbformat_minor": 4
}
