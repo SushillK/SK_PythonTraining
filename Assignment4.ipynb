{
 "cells": [
  {
   "cell_type": "code",
   "execution_count": null,
   "metadata": {},
   "outputs": [],
   "source": [
    "# . Write a Python program to create a lambda function that adds 15 to a given number passed in as an argument, \n",
    "#also create a lambda function that multiplies argument x with argument y and prints the result."
   ]
  },
  {
   "cell_type": "code",
   "execution_count": 1,
   "metadata": {},
   "outputs": [
    {
     "name": "stdout",
     "output_type": "stream",
     "text": [
      "Adding 15 to 10: 25\n",
      "Multiplying 12 and 4: 48\n"
     ]
    }
   ],
   "source": [
    "# Lambda function to add 15 to a given number\n",
    "add_15 = lambda x: x + 15\n",
    "\n",
    "# Lambda function to multiply two arguments\n",
    "multiply = lambda x, y: x * y\n",
    "\n",
    "# Example usage\n",
    "num = 10\n",
    "print(f\"Adding 15 to {num}: {add_15(num)}\")\n",
    "\n",
    "x = 12\n",
    "y = 4\n",
    "print(f\"Multiplying {x} and {y}: {multiply(x, y)}\")\n"
   ]
  },
  {
   "cell_type": "code",
   "execution_count": null,
   "metadata": {},
   "outputs": [],
   "source": [
    "#Write a Python program to create a function that takes one argument, \n",
    "#and that argument will be multiplied with an unknown given number.\n",
    "\n"
   ]
  },
  {
   "cell_type": "code",
   "execution_count": 32,
   "metadata": {},
   "outputs": [
    {
     "name": "stdout",
     "output_type": "stream",
     "text": [
      "Double the number of 11 = 22\n",
      "Triple the number of 11 = 33\n",
      "Quadruple the number of 11 = 44\n"
     ]
    }
   ],
   "source": [
    "def multiply_with_unknown(multiplier):\n",
    "    \n",
    "    return lambda x: x * multiplier\n",
    "\n",
    "# Create specific functions using the base function\n",
    "double = multiply_with_unknown(2)\n",
    "triple = multiply_with_unknown(3)\n",
    "quadruple = multiply_with_unknown(4)\n",
    "quintuple = multiply_with_unknown(5)\n",
    "\n",
    "# Example usage with number 11\n",
    "num = 11\n",
    "print(f\"Double the number of {num} = {double(num)}\")\n",
    "print(f\"Triple the number of {num} = {triple(num)}\")\n",
    "print(f\"Quadruple the number of {num} = {quadruple(num)}\")\n"
   ]
  },
  {
   "cell_type": "code",
   "execution_count": 4,
   "metadata": {},
   "outputs": [],
   "source": [
    "#Write a Python program to sort a list of tuples using Lambda. \n",
    "#Original list of tuples: [('English', 88), ('Science', 90), ('Maths', 97), ('Social sciences', 82)]\n",
    "#Sorting the List of Tuples: [('Social sciences', 82), ('English', 88), ('Science', 90), ('Maths', 97)]"
   ]
  },
  {
   "cell_type": "code",
   "execution_count": 5,
   "metadata": {},
   "outputs": [
    {
     "name": "stdout",
     "output_type": "stream",
     "text": [
      "Sorting the List of Tuples:\n",
      "[('Social sciences', 82), ('English', 88), ('Science', 90), ('Maths', 97)]\n"
     ]
    }
   ],
   "source": [
    "# Original list of tuples\n",
    "subjects_scores = [('English', 88), ('Science', 90), ('Maths', 97), ('Social sciences', 82)]\n",
    "\n",
    "# Sort the list of tuples by the second element (the score) using a lambda function\n",
    "sorted_subjects_scores = sorted(subjects_scores, key=lambda x: x[1])\n",
    "\n",
    "# Display the sorted list\n",
    "print(\"Sorting the List of Tuples:\")\n",
    "print(sorted_subjects_scores)\n"
   ]
  },
  {
   "cell_type": "code",
   "execution_count": 6,
   "metadata": {},
   "outputs": [],
   "source": [
    "#Write a Python program to sort a list of dictionaries using Lambda. Original list of dictionaries : [{'make': 'Nokia', 'model': 216, 'color': 'Black'}, {'make': 'Mi Max', 'model': '2', 'color': 'Gold'}, {'make': 'Samsung', 'model': 7, 'color': 'Blue'}] Sorting the List of dictionaries : [{'make': 'Nokia', 'model': 216, 'color': 'Black'}, {'make': 'Samsung', 'model': 7, 'color': 'Blue'}, {'make': 'Mi Max', 'model': '2', 'color': 'Gold'}]"
   ]
  },
  {
   "cell_type": "code",
   "execution_count": 7,
   "metadata": {},
   "outputs": [
    {
     "name": "stdout",
     "output_type": "stream",
     "text": [
      "Sorting the List of Dictionaries:\n",
      "[{'make': 'Mi Max', 'model': '2', 'color': 'Gold'}, {'make': 'Nokia', 'model': 216, 'color': 'Black'}, {'make': 'Samsung', 'model': 7, 'color': 'Blue'}]\n"
     ]
    }
   ],
   "source": [
    "# Original list of dictionaries\n",
    "phones = [\n",
    "    {'make': 'Nokia', 'model': 216, 'color': 'Black'},\n",
    "    {'make': 'Mi Max', 'model': '2', 'color': 'Gold'},\n",
    "    {'make': 'Samsung', 'model': 7, 'color': 'Blue'}\n",
    "]\n",
    "\n",
    "# Sort the list of dictionaries by the 'make' key using a lambda function\n",
    "sorted_phones = sorted(phones, key=lambda x: x['make'])\n",
    "\n",
    "# Display the sorted list\n",
    "print(\"Sorting the List of Dictionaries:\")\n",
    "print(sorted_phones)\n"
   ]
  },
  {
   "cell_type": "code",
   "execution_count": 8,
   "metadata": {},
   "outputs": [],
   "source": [
    "#Write a Python program to filter a list of integers using Lambda.\n",
    "#Original list of integers: [1, 2, 3, 4, 5, 6, 7, 8, 9, 10] Even numbers from the said\n",
    "#list: [2, 4, 6, 8, 10] Odd numbers from the said list: [1, 3, 5, 7, 9]"
   ]
  },
  {
   "cell_type": "code",
   "execution_count": 9,
   "metadata": {},
   "outputs": [
    {
     "name": "stdout",
     "output_type": "stream",
     "text": [
      "Original list of integers: [1, 2, 3, 4, 5, 6, 7, 8, 9, 10]\n",
      "Even numbers from the list: [2, 4, 6, 8, 10]\n",
      "Odd numbers from the list: [1, 3, 5, 7, 9]\n"
     ]
    }
   ],
   "source": [
    "# Original list of integers\n",
    "numbers = [1, 2, 3, 4, 5, 6, 7, 8, 9, 10]\n",
    "\n",
    "# Filter even numbers using a lambda function\n",
    "even_numbers = list(filter(lambda x: x % 2 == 0, numbers))\n",
    "\n",
    "# Filter odd numbers using a lambda function\n",
    "odd_numbers = list(filter(lambda x: x % 2 != 0, numbers))\n",
    "\n",
    "# Display the results\n",
    "print(\"Original list of integers:\", numbers)\n",
    "print(\"Even numbers from the list:\", even_numbers)\n",
    "print(\"Odd numbers from the list:\", odd_numbers)\n"
   ]
  },
  {
   "cell_type": "code",
   "execution_count": 10,
   "metadata": {},
   "outputs": [],
   "source": [
    "#Write a Python program to square and cube every number in a given list of integers using Lambda. \n",
    "#Original list of integers: [1, 2, 3, 4, 5, 6, 7, 8, 9, 10] Square every number of the said \n",
    "#list: [1, 4, 9, 16, 25, 36, 49, 64, 81, 100]\n",
    "\n",
    "#Cube every number of the said list: [1, 8, 27, 64, 125, 216, 343, 512, 729, 1000]"
   ]
  },
  {
   "cell_type": "code",
   "execution_count": 11,
   "metadata": {},
   "outputs": [
    {
     "name": "stdout",
     "output_type": "stream",
     "text": [
      "Original list of integers: [1, 2, 3, 4, 5, 6, 7, 8, 9, 10]\n",
      "Square every number of the list: [1, 4, 9, 16, 25, 36, 49, 64, 81, 100]\n",
      "Cube every number of the list: [1, 8, 27, 64, 125, 216, 343, 512, 729, 1000]\n"
     ]
    }
   ],
   "source": [
    "# Original list of integers\n",
    "numbers = [1, 2, 3, 4, 5, 6, 7, 8, 9, 10]\n",
    "\n",
    "# Square every number using a lambda function with map()\n",
    "squared_numbers = list(map(lambda x: x ** 2, numbers))\n",
    "\n",
    "# Cube every number using a lambda function with map()\n",
    "cubed_numbers = list(map(lambda x: x ** 3, numbers))\n",
    "\n",
    "# Display the results\n",
    "print(\"Original list of integers:\", numbers)\n",
    "print(\"Square every number of the list:\", squared_numbers)\n",
    "print(\"Cube every number of the list:\", cubed_numbers)\n"
   ]
  },
  {
   "cell_type": "code",
   "execution_count": 12,
   "metadata": {},
   "outputs": [],
   "source": [
    "#Write a Python program to find if a given string starts with a given character using Lambda."
   ]
  },
  {
   "cell_type": "code",
   "execution_count": 35,
   "metadata": {},
   "outputs": [
    {
     "name": "stdout",
     "output_type": "stream",
     "text": [
      "True\n",
      "False\n",
      "False\n"
     ]
    }
   ],
   "source": [
    "start = lambda x: True if x.startswith('h') else False\n",
    "print(start('hi'))\n",
    "print(start('Python'))\n",
    "print(start('Hat'))"
   ]
  },
  {
   "cell_type": "code",
   "execution_count": 14,
   "metadata": {},
   "outputs": [],
   "source": [
    "#Write a Python program to extract year, month, date and time using Lambda.\n",
    "#Sample Output: 2020-01-15 09:03:32.744178 2020 1 15 09:03:32.744178"
   ]
  },
  {
   "cell_type": "code",
   "execution_count": 15,
   "metadata": {},
   "outputs": [
    {
     "name": "stdout",
     "output_type": "stream",
     "text": [
      "Original datetime: 2020-01-15 09:03:32.744178\n",
      "Year: 2020\n",
      "Month: 1\n",
      "Day: 15\n",
      "Time: 09:03:32.744178\n"
     ]
    }
   ],
   "source": [
    "from datetime import datetime\n",
    "\n",
    "# Sample datetime string\n",
    "datetime_str = '2020-01-15 09:03:32.744178'\n",
    "\n",
    "# Parse the datetime string into a datetime object\n",
    "dt = datetime.strptime(datetime_str, '%Y-%m-%d %H:%M:%S.%f')\n",
    "\n",
    "# Lambda functions to extract year, month, day, and time\n",
    "extract_year = lambda dt: dt.year\n",
    "extract_month = lambda dt: dt.month\n",
    "extract_day = lambda dt: dt.day\n",
    "extract_time = lambda dt: dt.strftime('%H:%M:%S.%f')\n",
    "\n",
    "# Extract and display the results\n",
    "year = extract_year(dt)\n",
    "month = extract_month(dt)\n",
    "day = extract_day(dt)\n",
    "time = extract_time(dt)\n",
    "\n",
    "print(f\"Original datetime: {datetime_str}\")\n",
    "print(f\"Year: {year}\")\n",
    "print(f\"Month: {month}\")\n",
    "print(f\"Day: {day}\")\n",
    "print(f\"Time: {time}\")\n"
   ]
  },
  {
   "cell_type": "code",
   "execution_count": 16,
   "metadata": {},
   "outputs": [],
   "source": [
    "#Write a Python program to check whether a given string is a number or not using Lambda.\n",
    "#Sample Output: True True False True False True Print checking numbers: True True"
   ]
  },
  {
   "cell_type": "code",
   "execution_count": 17,
   "metadata": {},
   "outputs": [
    {
     "name": "stdout",
     "output_type": "stream",
     "text": [
      "Checking numbers:\n",
      "True\n",
      "True\n",
      "False\n",
      "True\n",
      "True\n",
      "True\n"
     ]
    }
   ],
   "source": [
    "def is_number(s):\n",
    "    \n",
    "    try:\n",
    "        float(s)  # Try converting the string to a float\n",
    "        return True\n",
    "    except ValueError:\n",
    "        return False\n",
    "\n",
    "# Lambda function to check if a string is a number\n",
    "check_number = lambda s: is_number(s)\n",
    "\n",
    "# Sample strings to test\n",
    "test_strings = ['123', '45.67', 'abc', '-789', '3.14e-10', 'NaN']\n",
    "\n",
    "# Check and display results\n",
    "results = [check_number(s) for s in test_strings]\n",
    "\n",
    "print(\"Checking numbers:\")\n",
    "for result in results:\n",
    "    print(result)\n"
   ]
  },
  {
   "cell_type": "code",
   "execution_count": 18,
   "metadata": {},
   "outputs": [],
   "source": [
    "#Write a Python program to create Fibonacci series up to n using Lambda. \n",
    "#Fibonacci series upto 2: [0, 1] Fibonacci series upto 5: [0, 1, 1, 2, 3] \n",
    "#Fibonacci series upto 6: [0, 1, 1, 2, 3, 5] Fibonacci series upto 9: [0, 1, 1, 2, 3, 5, 8, 13, 21]"
   ]
  },
  {
   "cell_type": "code",
   "execution_count": 19,
   "metadata": {},
   "outputs": [
    {
     "name": "stdout",
     "output_type": "stream",
     "text": [
      "Fibonacci series up to 2: [0, 1]\n",
      "Fibonacci series up to 5: [0, 1, 1, 2, 3]\n",
      "Fibonacci series up to 6: [0, 1, 1, 2, 3, 5]\n",
      "Fibonacci series up to 9: [0, 1, 1, 2, 3, 5, 8, 13, 21]\n"
     ]
    }
   ],
   "source": [
    "def fibonacci_series(n):\n",
    "    \"\"\"Generate Fibonacci series up to n elements.\"\"\"\n",
    "    fib = lambda x, y, n: [] if n == 0 else [x] + fib(y, x + y, n - 1)\n",
    "    return fib(0, 1, n)\n",
    "\n",
    "# Test cases\n",
    "print(\"Fibonacci series up to 2:\", fibonacci_series(2))\n",
    "print(\"Fibonacci series up to 5:\", fibonacci_series(5))\n",
    "print(\"Fibonacci series up to 6:\", fibonacci_series(6))\n",
    "print(\"Fibonacci series up to 9:\", fibonacci_series(9))\n"
   ]
  },
  {
   "cell_type": "code",
   "execution_count": 20,
   "metadata": {},
   "outputs": [],
   "source": [
    "#Write a Python program to find the intersection of two given arrays using Lambda. \n",
    "#Original arrays: [1, 2, 3, 5, 7, 8, 9, 10] [1, 2, 4, 8, 9] \n",
    "#Intersection of the said arrays: [1, 2, 8, 9]"
   ]
  },
  {
   "cell_type": "code",
   "execution_count": 21,
   "metadata": {},
   "outputs": [
    {
     "name": "stdout",
     "output_type": "stream",
     "text": [
      "Original arrays:\n",
      "[1, 2, 3, 5, 7, 8, 9, 10]\n",
      "[1, 2, 4, 8, 9]\n",
      "Intersection of the said arrays: [1, 2, 8, 9]\n"
     ]
    }
   ],
   "source": [
    "# Original arrays\n",
    "array1 = [1, 2, 3, 5, 7, 8, 9, 10]\n",
    "array2 = [1, 2, 4, 8, 9]\n",
    "\n",
    "# Lambda function to find intersection\n",
    "intersection = lambda arr1, arr2: list(filter(lambda x: x in arr2, arr1))\n",
    "\n",
    "# Find intersection of the two arrays\n",
    "result = intersection(array1, array2)\n",
    "\n",
    "# Display the results\n",
    "print(\"Original arrays:\")\n",
    "print(array1)\n",
    "print(array2)\n",
    "print(\"Intersection of the said arrays:\", result)\n"
   ]
  }
 ],
 "metadata": {
  "kernelspec": {
   "display_name": "Python 3 (ipykernel)",
   "language": "python",
   "name": "python3"
  },
  "language_info": {
   "codemirror_mode": {
    "name": "ipython",
    "version": 3
   },
   "file_extension": ".py",
   "mimetype": "text/x-python",
   "name": "python",
   "nbconvert_exporter": "python",
   "pygments_lexer": "ipython3",
   "version": "3.11.5"
  }
 },
 "nbformat": 4,
 "nbformat_minor": 4
}
